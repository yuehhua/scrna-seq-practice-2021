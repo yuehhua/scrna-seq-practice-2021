{
 "cells": [
  {
   "cell_type": "markdown",
   "id": "38fd6add-5a5a-40f1-a6f8-e557b82fd69e",
   "metadata": {},
   "source": [
    "# 3k Human Peripheral Blood Mononuclear Cells (PBMCs)"
   ]
  },
  {
   "cell_type": "markdown",
   "id": "a13fabbd-eff1-4b10-9b9f-3f3686d97f6f",
   "metadata": {},
   "source": [
    "* [reference](https://scanpy-tutorials.readthedocs.io/en/latest/pbmc3k.html)"
   ]
  },
  {
   "cell_type": "markdown",
   "id": "3590b5d7-cc35-40ed-a0c2-75e3dcc9ddd0",
   "metadata": {},
   "source": [
    "## Download dataset"
   ]
  },
  {
   "cell_type": "code",
   "execution_count": null,
   "id": "c8816e16-bfd8-4fc9-a1e7-6324e0056338",
   "metadata": {},
   "outputs": [],
   "source": [
    "!mkdir data\n",
    "!wget http://cf.10xgenomics.com/samples/cell-exp/1.1.0/pbmc3k/pbmc3k_filtered_gene_bc_matrices.tar.gz -O data/pbmc3k_filtered_gene_bc_matrices.tar.gz\n",
    "!cd data; tar -xzf pbmc3k_filtered_gene_bc_matrices.tar.gz\n",
    "!mkdir write"
   ]
  },
  {
   "cell_type": "code",
   "execution_count": null,
   "id": "247db660-8f86-4084-9913-fa2d980662ad",
   "metadata": {},
   "outputs": [],
   "source": [
    "import numpy as np\n",
    "import pandas as pd\n",
    "import scanpy as sc"
   ]
  },
  {
   "cell_type": "code",
   "execution_count": null,
   "id": "1bc14fca-2d68-4ca3-a89f-5e26572c7dfb",
   "metadata": {},
   "outputs": [],
   "source": [
    "sc.settings.verbosity = 3  # verbosity: errors (0), warnings (1), info (2), hints (3)\n",
    "sc.logging.print_header()\n",
    "sc.settings.set_figure_params(dpi=100, facecolor=\"white\")"
   ]
  },
  {
   "cell_type": "markdown",
   "id": "2820af60-1ff1-43b2-8fa7-1a1a67f5839a",
   "metadata": {},
   "source": [
    "## Load dataset"
   ]
  },
  {
   "cell_type": "code",
   "execution_count": null,
   "id": "83338787-c589-4eee-b42e-5e3382686171",
   "metadata": {},
   "outputs": [],
   "source": [
    "results_file = \"write/pbmc3k.h5ad\""
   ]
  },
  {
   "cell_type": "code",
   "execution_count": null,
   "id": "75b2642e-3d51-409f-a472-305748001d97",
   "metadata": {},
   "outputs": [],
   "source": [
    "adata = sc.read_10x_mtx(\n",
    "    \"data/filtered_gene_bc_matrices/hg19/\",  # the directory with the `.mtx` file\n",
    "    var_names=\"gene_symbols\",                # use gene symbols for the variable names (variables-axis index)\n",
    "    cache=True)                              # write a cache file for faster subsequent reading"
   ]
  },
  {
   "cell_type": "code",
   "execution_count": null,
   "id": "ffa570a9-f623-45f4-bd6c-f3bba4799e1a",
   "metadata": {},
   "outputs": [],
   "source": [
    "adata.var_names_make_unique()"
   ]
  },
  {
   "cell_type": "code",
   "execution_count": null,
   "id": "11a0daf0-c4eb-4c6e-8b27-1b954b68f9a2",
   "metadata": {},
   "outputs": [],
   "source": [
    "adata"
   ]
  },
  {
   "cell_type": "markdown",
   "id": "76499479-c740-45e5-888e-dd970842ce24",
   "metadata": {},
   "source": [
    "## Preprocessing"
   ]
  },
  {
   "cell_type": "markdown",
   "id": "7e8fa251-98ef-442d-a368-7a2b802fd167",
   "metadata": {},
   "source": [
    "### Basic filtering"
   ]
  },
  {
   "cell_type": "code",
   "execution_count": null,
   "id": "1d1b1d42-f71e-4e85-9319-de950736c0b3",
   "metadata": {},
   "outputs": [],
   "source": [
    "sc.pp.filter_cells(adata, min_genes=200)\n",
    "sc.pp.filter_genes(adata, min_cells=3)"
   ]
  },
  {
   "cell_type": "code",
   "execution_count": null,
   "id": "b9ef3d27-c00e-4d8c-9e46-49a7cfe795fc",
   "metadata": {},
   "outputs": [],
   "source": [
    "adata"
   ]
  },
  {
   "cell_type": "markdown",
   "id": "9a2b57b4-ca8a-4870-9b88-c2049e790c07",
   "metadata": {},
   "source": [
    "### Show top 20 highly expressed genes"
   ]
  },
  {
   "cell_type": "code",
   "execution_count": null,
   "id": "5432e24b-d3e4-4ef8-88de-75237b447b80",
   "metadata": {},
   "outputs": [],
   "source": [
    "sc.pl.highest_expr_genes(adata, n_top=20)"
   ]
  },
  {
   "cell_type": "markdown",
   "id": "627d6861-c5f4-49b1-b433-115151cec145",
   "metadata": {},
   "source": [
    "### Quality control"
   ]
  },
  {
   "cell_type": "code",
   "execution_count": null,
   "id": "94992ff8-2b0b-419d-b2aa-03f5c829069f",
   "metadata": {},
   "outputs": [],
   "source": [
    "adata.var[\"mt\"] = adata.var_names.str.startswith(\"MT-\")\n",
    "sc.pp.calculate_qc_metrics(adata, qc_vars=[\"mt\"], percent_top=None, log1p=False, inplace=True)"
   ]
  },
  {
   "cell_type": "code",
   "execution_count": null,
   "id": "fed050be-40b5-4b35-9506-05149ed7a01b",
   "metadata": {},
   "outputs": [],
   "source": [
    "sc.pl.violin(adata, [\"n_genes_by_counts\", \"total_counts\", \"pct_counts_mt\"],\n",
    "             jitter=0.4, multi_panel=True)"
   ]
  },
  {
   "cell_type": "code",
   "execution_count": null,
   "id": "1f5ede6f-e3df-493f-8299-dbbca280eacf",
   "metadata": {},
   "outputs": [],
   "source": [
    "sc.pl.scatter(adata, x=\"total_counts\", y=\"pct_counts_mt\")"
   ]
  },
  {
   "cell_type": "code",
   "execution_count": null,
   "id": "877aed76-85f5-4d2e-9b36-4ebce4d0a724",
   "metadata": {},
   "outputs": [],
   "source": [
    "sc.pl.scatter(adata, x=\"total_counts\", y=\"n_genes_by_counts\")"
   ]
  },
  {
   "cell_type": "markdown",
   "id": "7922ab3b-8ffb-4e6a-a0f6-a5a370be15ab",
   "metadata": {},
   "source": [
    "### Filter out bad quality data"
   ]
  },
  {
   "cell_type": "markdown",
   "id": "6f409fb8-c8a9-4945-8dd5-f6ffa8712fe7",
   "metadata": {},
   "source": [
    "Maybe death cell or mock genes."
   ]
  },
  {
   "cell_type": "code",
   "execution_count": null,
   "id": "13ae8d85-d00f-4f0a-a5b0-38b26ce9faa4",
   "metadata": {},
   "outputs": [],
   "source": [
    "adata = adata[adata.obs.n_genes_by_counts < 2500, :]\n",
    "adata = adata[adata.obs.pct_counts_mt < 5, :]"
   ]
  },
  {
   "cell_type": "code",
   "execution_count": null,
   "id": "92987f76-6ddc-496e-bc24-f7407065a73b",
   "metadata": {},
   "outputs": [],
   "source": [
    "adata"
   ]
  },
  {
   "cell_type": "markdown",
   "id": "6bfba5ab-a08c-4303-ba20-1abafa767904",
   "metadata": {},
   "source": [
    "### Total-count normalization"
   ]
  },
  {
   "cell_type": "code",
   "execution_count": null,
   "id": "b388d33d-2b38-4f4b-a100-7b94051a6fa3",
   "metadata": {},
   "outputs": [],
   "source": [
    "sc.pp.normalize_total(adata, target_sum=1e4)"
   ]
  },
  {
   "cell_type": "markdown",
   "id": "99c59b47-82ff-4ec2-92f7-439619e089c1",
   "metadata": {},
   "source": [
    "### Logarithm"
   ]
  },
  {
   "cell_type": "code",
   "execution_count": null,
   "id": "481cd8f9-73a7-449e-9789-a910617a288e",
   "metadata": {},
   "outputs": [],
   "source": [
    "sc.pp.log1p(adata)"
   ]
  },
  {
   "cell_type": "markdown",
   "id": "b6f302f9-dfb5-4ab1-a44a-7a97475a318d",
   "metadata": {},
   "source": [
    "### Identify highly-variable genes"
   ]
  },
  {
   "cell_type": "code",
   "execution_count": null,
   "id": "e14b96c5-800c-4046-a1ee-193857c37c2e",
   "metadata": {},
   "outputs": [],
   "source": [
    "sc.pp.highly_variable_genes(adata, min_mean=0.0125, max_mean=3, min_disp=0.5)"
   ]
  },
  {
   "cell_type": "code",
   "execution_count": null,
   "id": "3ed374aa-fdc7-42c6-9960-ff0665ab6cf1",
   "metadata": {},
   "outputs": [],
   "source": [
    "sc.pl.highly_variable_genes(adata)"
   ]
  },
  {
   "cell_type": "markdown",
   "id": "0d90bc17-e7ac-4f71-b527-9bc3aeb458fa",
   "metadata": {},
   "source": [
    "### Save current data to `.raw` for later use in differential testing and visualizations of gene expression"
   ]
  },
  {
   "cell_type": "code",
   "execution_count": null,
   "id": "5481b85a-047b-4693-9457-a30eae09eea6",
   "metadata": {},
   "outputs": [],
   "source": [
    "adata.raw = adata"
   ]
  },
  {
   "cell_type": "code",
   "execution_count": null,
   "id": "8eb00d45-66f8-4392-a80e-52c0993a0e3f",
   "metadata": {},
   "outputs": [],
   "source": [
    "adata = adata[:, adata.var.highly_variable]"
   ]
  },
  {
   "cell_type": "markdown",
   "id": "dfcdc9a9-cb7c-438b-ae89-76e41be86954",
   "metadata": {},
   "source": [
    "### Regress out"
   ]
  },
  {
   "cell_type": "code",
   "execution_count": null,
   "id": "1e24a4f5-8222-4946-84fd-b514e47d513f",
   "metadata": {},
   "outputs": [],
   "source": [
    "sc.pp.regress_out(adata, [\"total_counts\", \"pct_counts_mt\"])"
   ]
  },
  {
   "cell_type": "markdown",
   "id": "a88f9393-87ba-4336-a048-e062ad055d98",
   "metadata": {},
   "source": [
    "### Scaling"
   ]
  },
  {
   "cell_type": "code",
   "execution_count": null,
   "id": "b8c2d613-63bc-4ce6-9b20-73a609447cca",
   "metadata": {},
   "outputs": [],
   "source": [
    "sc.pp.scale(adata, max_value=10)"
   ]
  },
  {
   "cell_type": "markdown",
   "id": "910449a6-4a7f-4a08-bbfa-cd067c7ca777",
   "metadata": {},
   "source": [
    "## PCA for denoising"
   ]
  },
  {
   "cell_type": "code",
   "execution_count": null,
   "id": "2f982027-f949-488f-b1c7-8500ae3e8d0d",
   "metadata": {},
   "outputs": [],
   "source": [
    "sc.tl.pca(adata, svd_solver=\"arpack\")"
   ]
  },
  {
   "cell_type": "code",
   "execution_count": null,
   "id": "9aa85257-2444-4425-902e-af1d6c3ac501",
   "metadata": {},
   "outputs": [],
   "source": [
    "sc.pl.pca(adata, color=\"CST3\")"
   ]
  },
  {
   "cell_type": "code",
   "execution_count": null,
   "id": "9ed13852-9456-4dd1-99ad-edd57c52e00d",
   "metadata": {},
   "outputs": [],
   "source": [
    "sc.pl.pca_variance_ratio(adata, log=True)"
   ]
  },
  {
   "cell_type": "markdown",
   "id": "b2b42cd4-f765-40f2-8420-843f66bc10df",
   "metadata": {},
   "source": [
    "### Save results"
   ]
  },
  {
   "cell_type": "code",
   "execution_count": null,
   "id": "02780ae4-6f06-4ce2-8902-5e4745bc635c",
   "metadata": {},
   "outputs": [],
   "source": [
    "adata"
   ]
  },
  {
   "cell_type": "code",
   "execution_count": null,
   "id": "c23b342c-286c-4064-809e-6dc06d6b628a",
   "metadata": {},
   "outputs": [],
   "source": [
    "adata.write(results_file)"
   ]
  },
  {
   "cell_type": "markdown",
   "id": "fe76c954-e451-4be5-baf0-e36f835b1d5d",
   "metadata": {},
   "source": [
    "## Computing the neighborhood graph"
   ]
  },
  {
   "cell_type": "code",
   "execution_count": null,
   "id": "9bb32fb4-e1ba-4e3a-b199-714385509b99",
   "metadata": {},
   "outputs": [],
   "source": [
    "sc.pp.neighbors(adata, n_neighbors=10, n_pcs=40)"
   ]
  },
  {
   "cell_type": "markdown",
   "id": "c4209837-8d8e-49a8-a021-ed121d743afc",
   "metadata": {},
   "source": [
    "## Data visualization"
   ]
  },
  {
   "cell_type": "code",
   "execution_count": null,
   "id": "36ec96ff-32c9-4139-b7b8-ef725cb480cc",
   "metadata": {},
   "outputs": [],
   "source": [
    "sc.tl.umap(adata)"
   ]
  },
  {
   "cell_type": "code",
   "execution_count": null,
   "id": "b225f297-d90f-4fc0-9af0-ece6ff8c3677",
   "metadata": {},
   "outputs": [],
   "source": [
    "sc.pl.umap(adata, color=[\"CST3\", \"NKG7\", \"PPBP\"])"
   ]
  },
  {
   "cell_type": "code",
   "execution_count": null,
   "id": "f9059bf3-5234-4997-a89d-b8dd86ef6af4",
   "metadata": {},
   "outputs": [],
   "source": [
    "sc.pl.umap(adata, color=[\"CST3\", \"NKG7\", \"PPBP\"], use_raw=False)"
   ]
  },
  {
   "cell_type": "markdown",
   "id": "205bb177-98fe-4740-b942-f924b9301a83",
   "metadata": {},
   "source": [
    "## Clustering"
   ]
  },
  {
   "cell_type": "code",
   "execution_count": null,
   "id": "93988be6-653b-4490-b8c2-6245c7994c92",
   "metadata": {},
   "outputs": [],
   "source": [
    "sc.tl.leiden(adata)  # you can also use .louvain for Louvain clustering"
   ]
  },
  {
   "cell_type": "code",
   "execution_count": null,
   "id": "494b1113-795b-4df1-8ac0-db6242867563",
   "metadata": {},
   "outputs": [],
   "source": [
    "sc.pl.umap(adata, color=[\"leiden\", \"CST3\", \"NKG7\"])"
   ]
  },
  {
   "cell_type": "markdown",
   "id": "2b277adc-2af5-4a5d-8604-0e57b999a851",
   "metadata": {},
   "source": [
    "## Differentially expressed genes"
   ]
  },
  {
   "cell_type": "code",
   "execution_count": null,
   "id": "215b72aa-ab65-43ed-85bb-8d9a790f17a4",
   "metadata": {},
   "outputs": [],
   "source": [
    "sc.tl.rank_genes_groups(adata, \"leiden\", method=\"t-test\")"
   ]
  },
  {
   "cell_type": "code",
   "execution_count": null,
   "id": "efffaae8-a98f-49d2-a30a-8db55a25c858",
   "metadata": {},
   "outputs": [],
   "source": [
    "sc.pl.rank_genes_groups(adata, n_genes=25, sharey=False)"
   ]
  },
  {
   "cell_type": "code",
   "execution_count": null,
   "id": "6ca2609b-449b-4f23-8b30-ff884f31623f",
   "metadata": {},
   "outputs": [],
   "source": [
    "# try method=\"wilcoxon\" for Wilcoxon rank-sum test"
   ]
  },
  {
   "cell_type": "code",
   "execution_count": null,
   "id": "0aaa5ef1-591d-4511-824d-387c7783fb4a",
   "metadata": {},
   "outputs": [],
   "source": [
    "# try method=\"logreg\" for logistic regression"
   ]
  },
  {
   "cell_type": "markdown",
   "id": "19fb5b38-ae7f-4546-ad2c-77d8a80ed5a6",
   "metadata": {},
   "source": [
    "## Define marker genes"
   ]
  },
  {
   "cell_type": "code",
   "execution_count": null,
   "id": "3170f17f-1b7a-4530-9f51-f0fb77523384",
   "metadata": {},
   "outputs": [],
   "source": [
    "marker_genes = [\"IL7R\", \"CD79A\", \"MS4A1\", \"CD8A\", \"CD8B\", \"LYZ\", \"CD14\",\n",
    "                \"LGALS3\", \"S100A8\", \"GNLY\", \"NKG7\", \"KLRB1\",\n",
    "                \"FCGR3A\", \"MS4A7\", \"FCER1A\", \"CST3\", \"PPBP\"]"
   ]
  },
  {
   "cell_type": "markdown",
   "id": "3fe6fb60-e509-4687-bb98-114afb5e664e",
   "metadata": {},
   "source": [
    "### Show top-10 ranked genes for each cluster"
   ]
  },
  {
   "cell_type": "code",
   "execution_count": null,
   "id": "26b84ee8-35a3-4052-944b-126df3389c12",
   "metadata": {},
   "outputs": [],
   "source": [
    "pd.DataFrame(adata.uns['rank_genes_groups']['names']).head(5)"
   ]
  },
  {
   "cell_type": "code",
   "execution_count": null,
   "id": "4bb5aea6-f97b-4114-9398-ed3af477483f",
   "metadata": {},
   "outputs": [],
   "source": [
    "result = adata.uns[\"rank_genes_groups\"]\n",
    "groups = result[\"names\"].dtype.names\n",
    "pd.DataFrame(\n",
    "    {group + \"_\" + key[:1]: result[key][group]\n",
    "    for group in groups for key in [\"names\", \"pvals\"]}).head(5)"
   ]
  },
  {
   "cell_type": "markdown",
   "id": "0fcee31d-1c95-4f7a-8119-8d7df39efb94",
   "metadata": {},
   "source": [
    "### Compare to specific cluster"
   ]
  },
  {
   "cell_type": "code",
   "execution_count": null,
   "id": "83741aa8-aa96-41db-9732-c2f4642e0f48",
   "metadata": {},
   "outputs": [],
   "source": [
    "sc.tl.rank_genes_groups(adata, \"leiden\", groups=[\"0\"], reference=\"1\", method=\"wilcoxon\")\n",
    "sc.pl.rank_genes_groups(adata, groups=[\"0\"], n_genes=20)"
   ]
  },
  {
   "cell_type": "markdown",
   "id": "94346d0f-77c0-42a4-8bbe-0e4ff91b887f",
   "metadata": {},
   "source": [
    "### Detailed gene expression level information"
   ]
  },
  {
   "cell_type": "code",
   "execution_count": null,
   "id": "73b0bf40-243d-4916-a9ca-9faa481c9335",
   "metadata": {},
   "outputs": [],
   "source": [
    "sc.pl.rank_genes_groups_violin(adata, groups=\"0\", n_genes=8)"
   ]
  },
  {
   "cell_type": "code",
   "execution_count": null,
   "id": "605baef7-07ec-4e22-940d-a2650b52226f",
   "metadata": {},
   "outputs": [],
   "source": [
    "sc.pl.violin(adata, [\"CST3\", \"NKG7\", \"PPBP\"], groupby=\"leiden\")"
   ]
  },
  {
   "cell_type": "markdown",
   "id": "aebd1ddf-532a-4750-8762-7ee5d41776db",
   "metadata": {},
   "source": [
    "### Mark clusters"
   ]
  },
  {
   "cell_type": "code",
   "execution_count": null,
   "id": "dca13ec4-61d4-4bc1-b43c-17c580021a40",
   "metadata": {},
   "outputs": [],
   "source": [
    "new_cluster_names = [\n",
    "    \"CD4 T\", \"CD14 Monocytes\",\n",
    "    \"B\", \"CD8 T\",\n",
    "    \"NK\", \"FCGR3A Monocytes\",\n",
    "    \"Dendritic\", \"Megakaryocytes\"]\n",
    "adata.rename_categories(\"leiden\", new_cluster_names)"
   ]
  },
  {
   "cell_type": "code",
   "execution_count": null,
   "id": "277da867-2ce7-4203-9f41-4c26016b809c",
   "metadata": {},
   "outputs": [],
   "source": [
    "sc.pl.umap(adata, color=\"leiden\", legend_loc=\"on data\", title=\"\", frameon=False)"
   ]
  },
  {
   "cell_type": "code",
   "execution_count": null,
   "id": "b62849e0-d6f8-4d27-a1eb-75dd7ccd9e06",
   "metadata": {},
   "outputs": [],
   "source": [
    "sc.pl.dotplot(adata, marker_genes, groupby=\"leiden\")"
   ]
  },
  {
   "cell_type": "code",
   "execution_count": null,
   "id": "d43b172d-ad8f-4626-ac61-591c8d4e3816",
   "metadata": {},
   "outputs": [],
   "source": [
    "adata"
   ]
  },
  {
   "cell_type": "code",
   "execution_count": null,
   "id": "d1e8f08e-ba09-4083-8ccd-463549a78f09",
   "metadata": {},
   "outputs": [],
   "source": [
    "adata.write(results_file, compression='gzip')"
   ]
  },
  {
   "cell_type": "code",
   "execution_count": null,
   "id": "801fed26-e470-4542-b523-940056ecc836",
   "metadata": {},
   "outputs": [],
   "source": []
  }
 ],
 "metadata": {
  "kernelspec": {
   "display_name": "Python 3",
   "language": "python",
   "name": "python3"
  },
  "language_info": {
   "codemirror_mode": {
    "name": "ipython",
    "version": 3
   },
   "file_extension": ".py",
   "mimetype": "text/x-python",
   "name": "python",
   "nbconvert_exporter": "python",
   "pygments_lexer": "ipython3",
   "version": "3.8.8"
  }
 },
 "nbformat": 4,
 "nbformat_minor": 5
}

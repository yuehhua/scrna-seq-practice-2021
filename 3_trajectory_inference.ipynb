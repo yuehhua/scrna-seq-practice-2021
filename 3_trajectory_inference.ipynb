{
 "cells": [
  {
   "cell_type": "markdown",
   "id": "e0bb4c5f-67d9-4af0-b3d1-e16022dd37aa",
   "metadata": {},
   "source": [
    "# Trajectory inference for hematopoiesis in mouse"
   ]
  },
  {
   "cell_type": "markdown",
   "id": "98e5886a-f094-460e-9c64-c2715d3a5cbc",
   "metadata": {},
   "source": [
    "* [reference](https://scanpy-tutorials.readthedocs.io/en/latest/paga-paul15.html)"
   ]
  },
  {
   "cell_type": "markdown",
   "id": "2354aee1-165e-4350-97ac-715c60d29374",
   "metadata": {},
   "source": [
    "Install fa by `pip install fa2` first."
   ]
  },
  {
   "cell_type": "code",
   "execution_count": null,
   "id": "1aa5be7c-1b02-4979-b495-5b3e0909601b",
   "metadata": {},
   "outputs": [],
   "source": [
    "import numpy as np\n",
    "import pandas as pd\n",
    "import matplotlib.pyplot as pl\n",
    "from matplotlib import rcParams\n",
    "import scanpy as sc"
   ]
  },
  {
   "cell_type": "code",
   "execution_count": null,
   "id": "20a74c35-b154-4cdb-800e-e9924346fd88",
   "metadata": {},
   "outputs": [],
   "source": [
    "sc.settings.verbosity = 3\n",
    "sc.logging.print_versions()\n",
    "sc.settings.set_figure_params(dpi=100, frameon=False, figsize=(6, 6), facecolor='white')"
   ]
  },
  {
   "cell_type": "code",
   "execution_count": null,
   "id": "5443db41-5b59-4b4a-a113-e016a0e79c16",
   "metadata": {},
   "outputs": [],
   "source": [
    "results_file = \"write/paul15.h5ad\""
   ]
  },
  {
   "cell_type": "markdown",
   "id": "37f22fe3-338c-4c4e-a3a1-95acc0ba70ae",
   "metadata": {},
   "source": [
    "## Load/download dataset"
   ]
  },
  {
   "cell_type": "code",
   "execution_count": null,
   "id": "2b779153-47e5-41b4-b04a-d018bef4729e",
   "metadata": {},
   "outputs": [],
   "source": [
    "adata = sc.datasets.paul15()"
   ]
  },
  {
   "cell_type": "code",
   "execution_count": null,
   "id": "b578f3bc-f009-4a4f-85c1-67baeaed1970",
   "metadata": {},
   "outputs": [],
   "source": [
    "adata"
   ]
  },
  {
   "cell_type": "code",
   "execution_count": null,
   "id": "36b4214a-9bcb-4948-b66e-ba9fe8aebb23",
   "metadata": {},
   "outputs": [],
   "source": [
    "adata.X = adata.X.astype(\"float64\")"
   ]
  },
  {
   "cell_type": "markdown",
   "id": "4e232e16-eb18-400c-8e3d-b2a1e1395f69",
   "metadata": {},
   "source": [
    "## Preprocessing"
   ]
  },
  {
   "cell_type": "code",
   "execution_count": null,
   "id": "30f113f8-2324-4736-88a3-4590c90889eb",
   "metadata": {},
   "outputs": [],
   "source": [
    "sc.pp.recipe_zheng17(adata)"
   ]
  },
  {
   "cell_type": "code",
   "execution_count": null,
   "id": "75177f91-c627-4e5c-8867-6a44fe9e924c",
   "metadata": {},
   "outputs": [],
   "source": [
    "sc.tl.pca(adata, svd_solver=\"arpack\")"
   ]
  },
  {
   "cell_type": "code",
   "execution_count": null,
   "id": "e0dca73f-1963-48c0-b918-f6ddf84c94d8",
   "metadata": {},
   "outputs": [],
   "source": [
    "sc.pp.neighbors(adata, n_neighbors=4, n_pcs=20)\n",
    "sc.tl.draw_graph(adata)"
   ]
  },
  {
   "cell_type": "markdown",
   "id": "6ec1af10-4f8b-4326-80f5-4eaad23fc2e4",
   "metadata": {},
   "source": [
    "## Visualization"
   ]
  },
  {
   "cell_type": "code",
   "execution_count": null,
   "id": "6d16a866-a03a-4143-a97a-faff623c8470",
   "metadata": {},
   "outputs": [],
   "source": [
    "sc.pl.draw_graph(adata, color=\"paul15_clusters\", legend_loc=\"on data\")"
   ]
  },
  {
   "cell_type": "markdown",
   "id": "11eb2a6e-0766-436d-865f-0fbc96167899",
   "metadata": {},
   "source": [
    "## Clustering and embedding"
   ]
  },
  {
   "cell_type": "code",
   "execution_count": null,
   "id": "7692803e-9434-4e8d-9140-f3cbf6462813",
   "metadata": {},
   "outputs": [],
   "source": [
    "sc.tl.leiden(adata, resolution=1.4)"
   ]
  },
  {
   "cell_type": "code",
   "execution_count": null,
   "id": "f56f9bec-4f37-4b81-ac84-a2737473fb0b",
   "metadata": {},
   "outputs": [],
   "source": [
    "sc.tl.paga(adata, groups=\"leiden\")"
   ]
  },
  {
   "cell_type": "code",
   "execution_count": null,
   "id": "59c69254-8ffb-4870-b0e5-f491e1c23c69",
   "metadata": {},
   "outputs": [],
   "source": [
    "# Markers:\n",
    "# Erythroids: Hba-a2\n",
    "# Neutrophils: Elane\n",
    "# Monocytes: Irf8\n",
    "sc.pl.paga(adata, color=[\"leiden\", \"Hba-a2\", \"Elane\", \"Irf8\"])"
   ]
  },
  {
   "cell_type": "code",
   "execution_count": null,
   "id": "fc13b99c-88a4-4901-b0b9-46ac4832426b",
   "metadata": {},
   "outputs": [],
   "source": [
    "# Markers:\n",
    "# Megakaryocytes: Itga2b\n",
    "# Basophils: Prss34\n",
    "# Mast cells: Cma1\n",
    "sc.pl.paga(adata, color=[\"leiden\", \"Itga2b\", \"Prss34\", \"Cma1\"])"
   ]
  },
  {
   "cell_type": "code",
   "execution_count": null,
   "id": "91bdf70c-0152-4ba5-a321-6d85150b471e",
   "metadata": {},
   "outputs": [],
   "source": [
    "adata.obs[\"leiden\"].cat.categories"
   ]
  },
  {
   "cell_type": "code",
   "execution_count": null,
   "id": "e1eacb24-9cd8-4d00-bc99-236728dd4792",
   "metadata": {},
   "outputs": [],
   "source": [
    "adata.obs[\"leiden_anno\"] = adata.obs[\"leiden\"]"
   ]
  },
  {
   "cell_type": "code",
   "execution_count": null,
   "id": "0f7b037e-0391-4874-8c2f-0e7261cc19a3",
   "metadata": {},
   "outputs": [],
   "source": [
    "adata.obs[\"leiden_anno\"].cat.categories = ['0', '1', '2', '3', '4', '5/Stem', '6', '7', '8/Mo', '9/Ery', '10', '11', '12',\n",
    "       '13', '14', '15', '16', '17', '18/Neu', '19', '20/Mega', '21', '22/Baso', '23', '24', \"25\", \"26\", \"27/Mast\"]"
   ]
  },
  {
   "cell_type": "code",
   "execution_count": null,
   "id": "f736ece1-5074-4066-a51f-22159af4e9e5",
   "metadata": {},
   "outputs": [],
   "source": [
    "sc.tl.paga(adata, groups=\"leiden_anno\")"
   ]
  },
  {
   "cell_type": "code",
   "execution_count": null,
   "id": "0af3e8d9-0754-4bc8-ad3d-453edead96b0",
   "metadata": {},
   "outputs": [],
   "source": [
    "sc.pl.paga(adata, threshold=0.4, show=False)"
   ]
  },
  {
   "cell_type": "markdown",
   "id": "f430c55f-50f2-42c6-9b49-b3b6f85072f7",
   "metadata": {},
   "source": [
    "## Visualization with PAGA"
   ]
  },
  {
   "cell_type": "code",
   "execution_count": null,
   "id": "acab812c-95c1-4fb5-9b2b-a90c5d51203b",
   "metadata": {},
   "outputs": [],
   "source": [
    "sc.tl.draw_graph(adata, init_pos=\"paga\")"
   ]
  },
  {
   "cell_type": "markdown",
   "id": "43124d95-a602-47ce-8731-821f2706a083",
   "metadata": {},
   "source": [
    "### Recomputing the embedding using PAGA-initialization"
   ]
  },
  {
   "cell_type": "markdown",
   "id": "113424f5-c03a-477e-8449-14b1a81d3b0c",
   "metadata": {},
   "source": [
    "## Reconstructing gene changes along PAGA paths for a given set of genes"
   ]
  },
  {
   "cell_type": "code",
   "execution_count": null,
   "id": "77cd2c46-3bdb-4b49-9331-3d41f92dd307",
   "metadata": {},
   "outputs": [],
   "source": [
    "adata.uns[\"iroot\"] = np.flatnonzero(adata.obs[\"leiden_anno\"]  == \"5/Stem\")[0]"
   ]
  },
  {
   "cell_type": "code",
   "execution_count": null,
   "id": "d81063f1-9be6-427b-9e92-d1780ab90cba",
   "metadata": {},
   "outputs": [],
   "source": [
    "sc.tl.dpt(adata)"
   ]
  },
  {
   "cell_type": "code",
   "execution_count": null,
   "id": "1a9a53c5-fd34-4ee6-a65d-f198c366d00b",
   "metadata": {},
   "outputs": [],
   "source": [
    "gene_names = ['Gata2', 'Gata1', 'Klf1', 'Epor', 'Hba-a2',  # erythroid\n",
    "              'Elane', 'Cebpe', 'Gfi1',                    # neutrophil\n",
    "              'Irf8', 'Csf1r', 'Ctsg']                     # monocyte"
   ]
  },
  {
   "cell_type": "code",
   "execution_count": null,
   "id": "f571749c-56ca-4571-b181-2188f8f9fbfa",
   "metadata": {},
   "outputs": [],
   "source": [
    "adata_raw = sc.datasets.paul15()\n",
    "sc.pp.log1p(adata_raw)\n",
    "sc.pp.scale(adata_raw)\n",
    "adata.raw = adata_raw"
   ]
  },
  {
   "cell_type": "code",
   "execution_count": null,
   "id": "194d13d6-ad2b-4a81-8cdb-e705ac42c59e",
   "metadata": {},
   "outputs": [],
   "source": [
    "sc.pl.draw_graph(adata, color=[\"leiden_anno\", \"dpt_pseudotime\"], legend_loc=\"on data\")"
   ]
  },
  {
   "cell_type": "code",
   "execution_count": null,
   "id": "06e6fb3f-e366-4891-87c2-1b3941ecdbc4",
   "metadata": {},
   "outputs": [],
   "source": [
    "# refill correct cell clusters\n",
    "paths = [('erythrocytes', [16, ...]),\n",
    "         ('neutrophils', []),\n",
    "         ('monocytes', [])]"
   ]
  },
  {
   "cell_type": "code",
   "execution_count": null,
   "id": "7db05ab0-02bc-4b53-aaf7-902a3399a57e",
   "metadata": {},
   "outputs": [],
   "source": [
    "adata.obs[\"distance\"] = adata.obs[\"dpt_pseudotime\"]\n",
    "adata.obs['clusters'] = adata.obs[\"leiden_anno\"]\n",
    "adata.uns[\"clusters_colors\"] = adata.uns[\"leiden_colors_anno\"]"
   ]
  },
  {
   "cell_type": "code",
   "execution_count": null,
   "id": "e6df533c-e2ff-4a04-b80b-10fccb834761",
   "metadata": {},
   "outputs": [],
   "source": [
    "_, axs = pl.subplots(ncols=3, figsize=(6, 2.5), gridspec_kw={'wspace': 0.05, 'left': 0.12})\n",
    "pl.subplots_adjust(left=0.05, right=0.98, top=0.82, bottom=0.2)\n",
    "for ipath, (descr, path) in enumerate(paths):\n",
    "    _, data = sc.pl.paga_path(\n",
    "        adata, path, gene_names,\n",
    "        show_node_names=False,\n",
    "        ax=axs[ipath],\n",
    "        ytick_fontsize=12,\n",
    "        left_margin=0.15,\n",
    "        n_avg=50,\n",
    "        annotations=['distance'],\n",
    "        show_yticks=True if ipath==0 else False,\n",
    "        show_colorbar=False,\n",
    "        color_map='Greys',\n",
    "        groups_key='clusters',\n",
    "        color_maps_annotations={'distance': 'viridis'},\n",
    "        title='{} path'.format(descr),\n",
    "        return_data=True,\n",
    "        show=False)\n",
    "    data.to_csv(\"write/paga_path_{}.csv\".format(descr))\n",
    "# pl.savefig('./figures/paga_path_paul15.pdf')\n",
    "pl.show()"
   ]
  },
  {
   "cell_type": "code",
   "execution_count": null,
   "id": "f98ab933-f900-49c6-b29a-016cffdb32d4",
   "metadata": {},
   "outputs": [],
   "source": []
  }
 ],
 "metadata": {
  "kernelspec": {
   "display_name": "Python 3",
   "language": "python",
   "name": "python3"
  },
  "language_info": {
   "codemirror_mode": {
    "name": "ipython",
    "version": 3
   },
   "file_extension": ".py",
   "mimetype": "text/x-python",
   "name": "python",
   "nbconvert_exporter": "python",
   "pygments_lexer": "ipython3",
   "version": "3.8.8"
  }
 },
 "nbformat": 4,
 "nbformat_minor": 5
}

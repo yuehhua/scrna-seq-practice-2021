{
 "cells": [
  {
   "cell_type": "markdown",
   "id": "2540edd1-3fea-4485-8f3d-644b9b9bb537",
   "metadata": {},
   "source": [
    "# Pancreas dataset"
   ]
  },
  {
   "cell_type": "markdown",
   "id": "83820e1e-0ee4-4aca-b23a-0f206fbc9b19",
   "metadata": {},
   "source": [
    "* [reference](https://scanpy-tutorials.readthedocs.io/en/latest/integrating-data-using-ingest.html)"
   ]
  },
  {
   "cell_type": "markdown",
   "id": "b8b91370-6634-4b18-be9a-b57651598057",
   "metadata": {},
   "source": [
    "Install bbknn by `pip install bbknn` first."
   ]
  },
  {
   "cell_type": "code",
   "execution_count": null,
   "id": "b882689e-27ff-47a8-a7ff-89d40c3dbd1c",
   "metadata": {},
   "outputs": [],
   "source": [
    "import scanpy as sc\n",
    "import pandas as pd\n",
    "import seaborn as sns"
   ]
  },
  {
   "cell_type": "code",
   "execution_count": null,
   "id": "6f2ade9c-563b-4638-bf91-49580383aa26",
   "metadata": {},
   "outputs": [],
   "source": [
    "sc.settings.verbosity = 1             # verbosity: errors (0), warnings (1), info (2), hints (3)\n",
    "sc.logging.print_header()\n",
    "sc.settings.set_figure_params(dpi=100, frameon=False, figsize=(4, 3), facecolor='white')"
   ]
  },
  {
   "cell_type": "markdown",
   "id": "ce6247b1-1bc4-41d4-aff7-b419f003a921",
   "metadata": {},
   "source": [
    "## Load/download dataset"
   ]
  },
  {
   "cell_type": "code",
   "execution_count": null,
   "id": "1946ce43-1111-4b73-8961-41da77372c9a",
   "metadata": {},
   "outputs": [],
   "source": [
    "adata_all = sc.read('data/pancreas.h5ad', backup_url='https://www.dropbox.com/s/qj1jlm9w10wmt0u/pancreas.h5ad?dl=1')"
   ]
  },
  {
   "cell_type": "code",
   "execution_count": null,
   "id": "d66ef24e-9c1e-4933-8adc-53df710a32e2",
   "metadata": {},
   "outputs": [],
   "source": [
    "adata_all.shape"
   ]
  },
  {
   "cell_type": "code",
   "execution_count": null,
   "id": "1e454561-762d-4e85-a2c5-629e5bc4f5fb",
   "metadata": {},
   "outputs": [],
   "source": [
    "counts = adata_all.obs.celltype.value_counts()\n",
    "counts"
   ]
  },
  {
   "cell_type": "code",
   "execution_count": null,
   "id": "121c6246-f4f9-4d2a-b685-a0d1c6cf57b2",
   "metadata": {},
   "outputs": [],
   "source": [
    "minority_classes = counts.index[-5:].tolist()        # get the minority classes\n",
    "adata_all = adata_all[                               # actually subset\n",
    "    ~adata_all.obs.celltype.isin(minority_classes)]\n",
    "adata_all.obs.celltype.cat.reorder_categories(       # reorder according to abundance\n",
    "    counts.index[:-5].tolist(), inplace=True)"
   ]
  },
  {
   "cell_type": "markdown",
   "id": "8caca3f9-319c-43b7-bf7c-50ce2e0402d5",
   "metadata": {},
   "source": [
    "## Batch effect"
   ]
  },
  {
   "cell_type": "code",
   "execution_count": null,
   "id": "5edf5235-9a81-456a-b1a9-794e429d37ee",
   "metadata": {},
   "outputs": [],
   "source": [
    "sc.pp.pca(adata_all)\n",
    "sc.pp.neighbors(adata_all)\n",
    "sc.tl.umap(adata_all)"
   ]
  },
  {
   "cell_type": "code",
   "execution_count": null,
   "id": "482a749a-a6c7-43e9-8775-911b435b1570",
   "metadata": {},
   "outputs": [],
   "source": [
    "sc.pl.umap(adata_all, color=['batch', 'celltype'], palette=sc.pl.palettes.vega_20_scanpy)"
   ]
  },
  {
   "cell_type": "markdown",
   "id": "716432e3-eb04-44e4-a794-8b19ca079623",
   "metadata": {},
   "source": [
    "## Dataintegration with BBKNN"
   ]
  },
  {
   "cell_type": "code",
   "execution_count": null,
   "id": "81d0a173-9ba4-42fd-b57b-4998ab58f36a",
   "metadata": {},
   "outputs": [],
   "source": [
    "sc.external.pp.bbknn(adata_all, batch_key='batch')"
   ]
  },
  {
   "cell_type": "code",
   "execution_count": null,
   "id": "39b7e1f6-bd7f-4d8a-89ba-396ff5a566e5",
   "metadata": {},
   "outputs": [],
   "source": [
    "sc.tl.umap(adata_all)"
   ]
  },
  {
   "cell_type": "code",
   "execution_count": null,
   "id": "e386fa8f-dec2-4bb8-8da7-efee9c718adf",
   "metadata": {},
   "outputs": [],
   "source": [
    "sc.pl.umap(adata_all, color=['batch', 'celltype'])"
   ]
  },
  {
   "cell_type": "markdown",
   "id": "8a496e0b-9381-4378-adb8-bb69b66541be",
   "metadata": {},
   "source": [
    "## Mapping onto a reference batch using ingest"
   ]
  },
  {
   "cell_type": "markdown",
   "id": "c826c457-a998-4565-ba70-b36f47edbc12",
   "metadata": {},
   "source": [
    "### Set batch 0 as reference batch"
   ]
  },
  {
   "cell_type": "code",
   "execution_count": null,
   "id": "0eb7995a-165a-4a9f-b962-69b973e4fedc",
   "metadata": {},
   "outputs": [],
   "source": [
    "adata_ref = adata_all[adata_all.obs.batch == '0']"
   ]
  },
  {
   "cell_type": "code",
   "execution_count": null,
   "id": "0076a16d-3069-4180-b7bc-ed560a413ee9",
   "metadata": {},
   "outputs": [],
   "source": [
    "sc.pp.pca(adata_ref)\n",
    "sc.pp.neighbors(adata_ref)\n",
    "sc.tl.umap(adata_ref)"
   ]
  },
  {
   "cell_type": "code",
   "execution_count": null,
   "id": "b4416746-fb18-4d75-b0ca-5102fa3d99b2",
   "metadata": {},
   "outputs": [],
   "source": [
    "sc.pl.umap(adata_ref, color='celltype')"
   ]
  },
  {
   "cell_type": "code",
   "execution_count": null,
   "id": "4a34b046-fc9e-46a9-b426-d327337c5cc9",
   "metadata": {},
   "outputs": [],
   "source": [
    "adatas = [adata_all[adata_all.obs.batch == i].copy() for i in ['1', '2', '3']]"
   ]
  },
  {
   "cell_type": "code",
   "execution_count": null,
   "id": "0429de88-8af8-4be8-9cef-c746fcfb53bd",
   "metadata": {},
   "outputs": [],
   "source": [
    "sc.settings.verbosity = 2  # a bit more logging\n",
    "for iadata, adata in enumerate(adatas):\n",
    "    print(f'... integrating batch {iadata+1}')\n",
    "    adata.obs['celltype_orig'] = adata.obs.celltype  # save the original cell type\n",
    "    sc.tl.ingest(adata, adata_ref, obs='celltype')"
   ]
  },
  {
   "cell_type": "code",
   "execution_count": null,
   "id": "c4b42a8f-003d-49e0-a5e6-7b0b8d2584a1",
   "metadata": {},
   "outputs": [],
   "source": [
    "adata_concat = adata_ref.concatenate(adatas)"
   ]
  },
  {
   "cell_type": "code",
   "execution_count": null,
   "id": "420e5d51-d025-4e6a-b0bc-c3a2f1e473fa",
   "metadata": {},
   "outputs": [],
   "source": [
    "adata_concat.obs.celltype = adata_concat.obs.celltype.astype('category')\n",
    "adata_concat.obs.celltype.cat.reorder_categories(adata_ref.obs.celltype.cat.categories, inplace=True)  # fix category ordering\n",
    "adata_concat.uns['celltype_colors'] = adata_ref.uns['celltype_colors']  # fix category coloring"
   ]
  },
  {
   "cell_type": "code",
   "execution_count": null,
   "id": "acf105d5-a5b9-44ff-a7a7-0d4219919a84",
   "metadata": {},
   "outputs": [],
   "source": [
    "sc.pl.umap(adata_concat, color=['batch', 'celltype'])"
   ]
  },
  {
   "cell_type": "markdown",
   "id": "c4ae0651-e2a3-45e2-9262-c408de222901",
   "metadata": {},
   "source": [
    "## Evaluating consistency"
   ]
  },
  {
   "cell_type": "code",
   "execution_count": null,
   "id": "19b6e946-effc-406a-9e05-0ea861330d4a",
   "metadata": {},
   "outputs": [],
   "source": [
    "adata_query = adata_concat[adata_concat.obs.batch.isin(['1', '2', '3'])]"
   ]
  },
  {
   "cell_type": "code",
   "execution_count": null,
   "id": "56b05881-71d9-4cd3-970d-e2acc8d1da65",
   "metadata": {},
   "outputs": [],
   "source": [
    "sc.pl.umap(\n",
    "    adata_query, color=['batch', 'celltype', 'celltype_orig'], wspace=0.4)"
   ]
  },
  {
   "cell_type": "markdown",
   "id": "168ebcf7-ffc2-48a9-9f29-0e897e03aa25",
   "metadata": {},
   "source": [
    "## Cell types conserved across batches"
   ]
  },
  {
   "cell_type": "code",
   "execution_count": null,
   "id": "0989c115-6fc7-4a50-a7ca-38b1fa262e2b",
   "metadata": {},
   "outputs": [],
   "source": [
    "obs_query = adata_query.obs\n",
    "conserved_categories = obs_query.celltype.cat.categories.intersection(obs_query.celltype_orig.cat.categories)  # intersected categories\n",
    "obs_query_conserved = obs_query.loc[obs_query.celltype.isin(conserved_categories) & obs_query.celltype_orig.isin(conserved_categories)]  # intersect categories\n",
    "obs_query_conserved.celltype.cat.remove_unused_categories(inplace=True)  # remove unused categoriyes\n",
    "obs_query_conserved.celltype_orig.cat.remove_unused_categories(inplace=True)  # remove unused categoriyes\n",
    "obs_query_conserved.celltype_orig.cat.reorder_categories(obs_query_conserved.celltype.cat.categories, inplace=True)  # fix category ordering"
   ]
  },
  {
   "cell_type": "code",
   "execution_count": null,
   "id": "eb40675a-5204-447d-9f2a-36ae21ec60e0",
   "metadata": {},
   "outputs": [],
   "source": [
    "pd.crosstab(obs_query_conserved.celltype, obs_query_conserved.celltype_orig)"
   ]
  },
  {
   "cell_type": "code",
   "execution_count": null,
   "id": "70a02b5f-84b4-40db-aac4-c7d220e7f1b9",
   "metadata": {},
   "outputs": [],
   "source": [
    "pd.crosstab(adata_query.obs.celltype, adata_query.obs.celltype_orig)"
   ]
  },
  {
   "cell_type": "markdown",
   "id": "7ec5a937-5640-409d-9739-c762550d221a",
   "metadata": {},
   "source": [
    "## Visualizing distributions across batches"
   ]
  },
  {
   "cell_type": "code",
   "execution_count": null,
   "id": "383557cf-6699-45a6-814c-2ef553a029f5",
   "metadata": {},
   "outputs": [],
   "source": [
    "sc.tl.embedding_density(adata_concat, groupby='batch')"
   ]
  },
  {
   "cell_type": "code",
   "execution_count": null,
   "id": "663b4567-3a80-4db4-ab67-4cd7075ac1fa",
   "metadata": {},
   "outputs": [],
   "source": [
    "sc.pl.embedding_density(adata_concat, groupby='batch')"
   ]
  },
  {
   "cell_type": "code",
   "execution_count": null,
   "id": "504f01ee-f16c-4893-8f23-3c54aa0b8f0a",
   "metadata": {},
   "outputs": [],
   "source": [
    "for batch in ['1', '2', '3']:\n",
    "    sc.pl.umap(adata_concat, color='batch', groups=[batch])"
   ]
  },
  {
   "cell_type": "code",
   "execution_count": null,
   "id": "eef5adeb-136d-4e00-a467-a7919efaa31d",
   "metadata": {},
   "outputs": [],
   "source": []
  }
 ],
 "metadata": {
  "kernelspec": {
   "display_name": "Python 3",
   "language": "python",
   "name": "python3"
  },
  "language_info": {
   "codemirror_mode": {
    "name": "ipython",
    "version": 3
   },
   "file_extension": ".py",
   "mimetype": "text/x-python",
   "name": "python",
   "nbconvert_exporter": "python",
   "pygments_lexer": "ipython3",
   "version": "3.8.8"
  }
 },
 "nbformat": 4,
 "nbformat_minor": 5
}
